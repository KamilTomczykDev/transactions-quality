{
 "cells": [
  {
   "cell_type": "code",
   "execution_count": 0,
   "metadata": {
    "application/vnd.databricks.v1+cell": {
     "cellMetadata": {
      "byteLimit": 2048000,
      "rowLimit": 10000
     },
     "inputWidgets": {},
     "nuid": "1d6af1db-a667-4175-8463-4742201aa1af",
     "showTitle": false,
     "tableResultSettingsMap": {},
     "title": ""
    }
   },
   "outputs": [
    {
     "output_type": "execute_result",
     "data": {
      "text/html": [
       "<div>\n",
       "<style scoped>\n",
       "    .dataframe tbody tr th:only-of-type {\n",
       "        vertical-align: middle;\n",
       "    }\n",
       "\n",
       "    .dataframe tbody tr th {\n",
       "        vertical-align: top;\n",
       "    }\n",
       "\n",
       "    .dataframe thead th {\n",
       "        text-align: right;\n",
       "    }\n",
       "</style>\n",
       "<table border=\"1\" class=\"dataframe\">\n",
       "  <thead>\n",
       "    <tr style=\"text-align: right;\">\n",
       "      <th></th>\n",
       "      <th>transaction_id</th>\n",
       "      <th>customer_id</th>\n",
       "      <th>amount</th>\n",
       "      <th>status</th>\n",
       "      <th>transaction_date</th>\n",
       "    </tr>\n",
       "  </thead>\n",
       "  <tbody>\n",
       "    <tr>\n",
       "      <th>0</th>\n",
       "      <td>T00000</td>\n",
       "      <td>C000</td>\n",
       "      <td>124.84</td>\n",
       "      <td>completed</td>\n",
       "      <td>2023-07-09</td>\n",
       "    </tr>\n",
       "    <tr>\n",
       "      <th>1</th>\n",
       "      <td>T00001</td>\n",
       "      <td>C001</td>\n",
       "      <td>93.09</td>\n",
       "      <td>completed</td>\n",
       "      <td>2023-05-16</td>\n",
       "    </tr>\n",
       "    <tr>\n",
       "      <th>2</th>\n",
       "      <td>T00002</td>\n",
       "      <td>C002</td>\n",
       "      <td>132.38</td>\n",
       "      <td>completed</td>\n",
       "      <td>2023-02-12</td>\n",
       "    </tr>\n",
       "    <tr>\n",
       "      <th>3</th>\n",
       "      <td>T00003</td>\n",
       "      <td>C003</td>\n",
       "      <td>176.15</td>\n",
       "      <td>failed</td>\n",
       "      <td>2023-12-19</td>\n",
       "    </tr>\n",
       "    <tr>\n",
       "      <th>4</th>\n",
       "      <td>T00004</td>\n",
       "      <td>C004</td>\n",
       "      <td>88.29</td>\n",
       "      <td>completed</td>\n",
       "      <td>2023-03-31</td>\n",
       "    </tr>\n",
       "  </tbody>\n",
       "</table>\n",
       "</div>"
      ],
      "text/plain": [
       "  transaction_id customer_id  amount     status transaction_date\n",
       "0         T00000        C000  124.84  completed       2023-07-09\n",
       "1         T00001        C001   93.09  completed       2023-05-16\n",
       "2         T00002        C002  132.38  completed       2023-02-12\n",
       "3         T00003        C003  176.15     failed       2023-12-19\n",
       "4         T00004        C004   88.29  completed       2023-03-31"
      ]
     },
     "execution_count": 72,
     "metadata": {},
     "output_type": "execute_result"
    }
   ],
   "source": [
    "#DATA IMPORT\n",
    "import pandas as pd\n",
    "df = pd.read_csv(\"/Workspace/Users/kamiltomczyk.dev@gmail.com/transactions.csv\")\n",
    "df.head()"
   ]
  },
  {
   "cell_type": "code",
   "execution_count": 0,
   "metadata": {
    "application/vnd.databricks.v1+cell": {
     "cellMetadata": {
      "byteLimit": 2048000,
      "rowLimit": 10000
     },
     "inputWidgets": {},
     "nuid": "a0c99a21-1e17-4c31-9b15-3fac0f743250",
     "showTitle": false,
     "tableResultSettingsMap": {},
     "title": ""
    }
   },
   "outputs": [],
   "source": [
    "# Data type correction\n",
    "df[\"transaction_date\"] = pd.to_datetime(df[\"transaction_date\"], errors='coerce')"
   ]
  },
  {
   "cell_type": "code",
   "execution_count": 0,
   "metadata": {
    "application/vnd.databricks.v1+cell": {
     "cellMetadata": {
      "byteLimit": 2048000,
      "rowLimit": 10000
     },
     "inputWidgets": {},
     "nuid": "15bf0ae4-e7f4-4a51-a959-8c294c8c208d",
     "showTitle": false,
     "tableResultSettingsMap": {},
     "title": ""
    }
   },
   "outputs": [
    {
     "output_type": "stream",
     "name": "stderr",
     "output_type": "stream",
     "text": [
      "/home/spark-f62354de-68ed-42d2-b9ac-7e/.ipykernel/2768/command-6115378876161757-3964733215:7: FutureWarning: Treating datetime data as categorical rather than numeric in `.describe` is deprecated and will be removed in a future version of pandas. Specify `datetime_is_numeric=True` to silence this warning and adopt the future behavior now.\n  basic_stats = df.describe(include='all')\n"
     ]
    },
    {
     "output_type": "execute_result",
     "data": {
      "text/html": [
       "<div>\n",
       "<style scoped>\n",
       "    .dataframe tbody tr th:only-of-type {\n",
       "        vertical-align: middle;\n",
       "    }\n",
       "\n",
       "    .dataframe tbody tr th {\n",
       "        vertical-align: top;\n",
       "    }\n",
       "\n",
       "    .dataframe thead th {\n",
       "        text-align: right;\n",
       "    }\n",
       "</style>\n",
       "<table border=\"1\" class=\"dataframe\">\n",
       "  <thead>\n",
       "    <tr style=\"text-align: right;\">\n",
       "      <th></th>\n",
       "      <th>transaction_id</th>\n",
       "      <th>customer_id</th>\n",
       "      <th>amount</th>\n",
       "      <th>status</th>\n",
       "      <th>transaction_date</th>\n",
       "    </tr>\n",
       "  </thead>\n",
       "  <tbody>\n",
       "    <tr>\n",
       "      <th>count</th>\n",
       "      <td>1000</td>\n",
       "      <td>990</td>\n",
       "      <td>985.000000</td>\n",
       "      <td>1000</td>\n",
       "      <td>1000</td>\n",
       "    </tr>\n",
       "    <tr>\n",
       "      <th>unique</th>\n",
       "      <td>999</td>\n",
       "      <td>100</td>\n",
       "      <td>NaN</td>\n",
       "      <td>3</td>\n",
       "      <td>337</td>\n",
       "    </tr>\n",
       "    <tr>\n",
       "      <th>top</th>\n",
       "      <td>T00006</td>\n",
       "      <td>C000</td>\n",
       "      <td>NaN</td>\n",
       "      <td>completed</td>\n",
       "      <td>2023-11-17 00:00:00</td>\n",
       "    </tr>\n",
       "    <tr>\n",
       "      <th>freq</th>\n",
       "      <td>2</td>\n",
       "      <td>10</td>\n",
       "      <td>NaN</td>\n",
       "      <td>699</td>\n",
       "      <td>8</td>\n",
       "    </tr>\n",
       "    <tr>\n",
       "      <th>first</th>\n",
       "      <td>NaN</td>\n",
       "      <td>NaN</td>\n",
       "      <td>NaN</td>\n",
       "      <td>NaN</td>\n",
       "      <td>2023-01-01 00:00:00</td>\n",
       "    </tr>\n",
       "    <tr>\n",
       "      <th>last</th>\n",
       "      <td>NaN</td>\n",
       "      <td>NaN</td>\n",
       "      <td>NaN</td>\n",
       "      <td>NaN</td>\n",
       "      <td>2023-12-31 00:00:00</td>\n",
       "    </tr>\n",
       "    <tr>\n",
       "      <th>mean</th>\n",
       "      <td>NaN</td>\n",
       "      <td>NaN</td>\n",
       "      <td>96.059614</td>\n",
       "      <td>NaN</td>\n",
       "      <td>NaN</td>\n",
       "    </tr>\n",
       "    <tr>\n",
       "      <th>std</th>\n",
       "      <td>NaN</td>\n",
       "      <td>NaN</td>\n",
       "      <td>56.994764</td>\n",
       "      <td>NaN</td>\n",
       "      <td>NaN</td>\n",
       "    </tr>\n",
       "    <tr>\n",
       "      <th>min</th>\n",
       "      <td>NaN</td>\n",
       "      <td>NaN</td>\n",
       "      <td>-203.040000</td>\n",
       "      <td>NaN</td>\n",
       "      <td>NaN</td>\n",
       "    </tr>\n",
       "    <tr>\n",
       "      <th>25%</th>\n",
       "      <td>NaN</td>\n",
       "      <td>NaN</td>\n",
       "      <td>64.780000</td>\n",
       "      <td>NaN</td>\n",
       "      <td>NaN</td>\n",
       "    </tr>\n",
       "    <tr>\n",
       "      <th>50%</th>\n",
       "      <td>NaN</td>\n",
       "      <td>NaN</td>\n",
       "      <td>99.390000</td>\n",
       "      <td>NaN</td>\n",
       "      <td>NaN</td>\n",
       "    </tr>\n",
       "    <tr>\n",
       "      <th>75%</th>\n",
       "      <td>NaN</td>\n",
       "      <td>NaN</td>\n",
       "      <td>131.480000</td>\n",
       "      <td>NaN</td>\n",
       "      <td>NaN</td>\n",
       "    </tr>\n",
       "    <tr>\n",
       "      <th>max</th>\n",
       "      <td>NaN</td>\n",
       "      <td>NaN</td>\n",
       "      <td>292.640000</td>\n",
       "      <td>NaN</td>\n",
       "      <td>NaN</td>\n",
       "    </tr>\n",
       "  </tbody>\n",
       "</table>\n",
       "</div>"
      ],
      "text/plain": [
       "       transaction_id customer_id      amount     status     transaction_date\n",
       "count            1000         990  985.000000       1000                 1000\n",
       "unique            999         100         NaN          3                  337\n",
       "top            T00006        C000         NaN  completed  2023-11-17 00:00:00\n",
       "freq                2          10         NaN        699                    8\n",
       "first             NaN         NaN         NaN        NaN  2023-01-01 00:00:00\n",
       "last              NaN         NaN         NaN        NaN  2023-12-31 00:00:00\n",
       "mean              NaN         NaN   96.059614        NaN                  NaN\n",
       "std               NaN         NaN   56.994764        NaN                  NaN\n",
       "min               NaN         NaN -203.040000        NaN                  NaN\n",
       "25%               NaN         NaN   64.780000        NaN                  NaN\n",
       "50%               NaN         NaN   99.390000        NaN                  NaN\n",
       "75%               NaN         NaN  131.480000        NaN                  NaN\n",
       "max               NaN         NaN  292.640000        NaN                  NaN"
      ]
     },
     "execution_count": 110,
     "metadata": {},
     "output_type": "execute_result"
    }
   ],
   "source": [
    "#DATA PROFILING\n",
    "\n",
    "missing_values = df.isnull().sum()\n",
    "data_types = df.dtypes\n",
    "basic_stats = df.describe(include='all')\n",
    "unique_status = df['status'].unique()"
   ]
  },
  {
   "cell_type": "code",
   "execution_count": 0,
   "metadata": {
    "application/vnd.databricks.v1+cell": {
     "cellMetadata": {
      "byteLimit": 2048000,
      "rowLimit": 10000
     },
     "inputWidgets": {},
     "nuid": "ceaa9b56-6060-470c-9b4c-459bae4c2549",
     "showTitle": false,
     "tableResultSettingsMap": {},
     "title": ""
    }
   },
   "outputs": [],
   "source": [
    "#DATA QUALITY CHECKS\n",
    "\n",
    "dq1_missing_amount = df[df['amount'].isnull()]\n",
    "dq1_missing_customer = df[df['customer_id'].isnull()]\n",
    "dq2_negative_amount = df[df['amount'] < 0]\n",
    "dq3_duplicates = df[df.duplicated('transaction_id', keep=False)]\n",
    "dq4_inconsistent_completed = df[(df['status'] == 'completed') & ((df['amount'] <= 0) | (df['amount'].isnull()))]"
   ]
  },
  {
   "cell_type": "code",
   "execution_count": 0,
   "metadata": {
    "application/vnd.databricks.v1+cell": {
     "cellMetadata": {
      "byteLimit": 2048000,
      "rowLimit": 10000
     },
     "inputWidgets": {},
     "nuid": "0b8aa898-7bcd-427f-af22-82e77d0fc893",
     "showTitle": false,
     "tableResultSettingsMap": {},
     "title": ""
    }
   },
   "outputs": [
    {
     "output_type": "stream",
     "name": "stdout",
     "output_type": "stream",
     "text": [
      "                            error_count\ndq1_missing_amounts                  15\ndq1_missing_customers                10\ndq2_negative_amounts                 37\ndq3_duplicates                        2\ndq4_inconsistent_completed           37\n"
     ]
    }
   ],
   "source": [
    "#DATA QUALITY RAPORT\n",
    "\n",
    "error_raport = {\n",
    "    \"dq1_missing_amounts\": len(dq1_missing_amount),\n",
    "    \"dq1_missing_customers\": len(dq1_missing_customer),\n",
    "    \"dq2_negative_amounts\": len(dq2_negative_amount),\n",
    "    \"dq3_duplicates\": len(dq3_duplicates),\n",
    "    \"dq4_inconsistent_completed\": len(dq4_inconsistent_completed)\n",
    "}\n",
    "\n",
    "raport_df = pd.DataFrame.from_dict(error_raport, orient='index', columns=['error_count'])\n",
    "print(raport_df)"
   ]
  },
  {
   "cell_type": "code",
   "execution_count": 0,
   "metadata": {
    "application/vnd.databricks.v1+cell": {
     "cellMetadata": {
      "byteLimit": 2048000,
      "rowLimit": 10000
     },
     "inputWidgets": {},
     "nuid": "87563b02-e273-4fe5-8676-218ea167b523",
     "showTitle": false,
     "tableResultSettingsMap": {},
     "title": ""
    }
   },
   "outputs": [],
   "source": [
    "#EXPORT DATA\n",
    "\n",
    "raport_df.to_csv(\"/Workspace/Users/kamiltomczyk.dev@gmail.com/raport.csv\")"
   ]
  },
  {
   "cell_type": "code",
   "execution_count": 0,
   "metadata": {
    "application/vnd.databricks.v1+cell": {
     "cellMetadata": {
      "byteLimit": 2048000,
      "rowLimit": 10000
     },
     "inputWidgets": {},
     "nuid": "33dcff5c-6017-4bf5-8c1c-bd13e115bc3e",
     "showTitle": false,
     "tableResultSettingsMap": {},
     "title": ""
    }
   },
   "outputs": [
    {
     "output_type": "display_data",
     "data": {
      "image/png": "[encoded data removed]",
      "text/plain": [
       "<Figure size 640x480 with 1 Axes>"
      ]
     },
     "metadata": {},
     "output_type": "display_data"
    }
   ],
   "source": [
    "#DATA VISUALIZATION\n",
    "\n",
    "import matplotlib.pyplot as plt\n",
    "\n",
    "raport_df.plot(kind=\"bar\", legend=False, title=\"Data Quality Errors\")\n",
    "plt.ylabel(\"Error count\")\n",
    "plt.tight_layout()\n",
    "plt.show()"
   ]
  }
 ],
 "metadata": {
  "application/vnd.databricks.v1+notebook": {
   "computePreferences": null,
   "dashboards": [],
   "environmentMetadata": {
    "base_environment": "",
    "environment_version": "2"
   },
   "inputWidgetPreferences": null,
   "language": "python",
   "notebookMetadata": {
    "pythonIndentUnit": 4
   },
   "notebookName": "Data quality pipeline project",
   "widgets": {}
  },
  "language_info": {
   "name": "python"
  }
 },
 "nbformat": 4,
 "nbformat_minor": 0
}